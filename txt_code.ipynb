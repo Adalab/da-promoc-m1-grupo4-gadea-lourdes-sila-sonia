{
 "cells": [
  {
   "cell_type": "code",
   "execution_count": 36,
   "metadata": {},
   "outputs": [],
   "source": [
    "with open('data_txt.txt','r') as file:\n",
    "    file_source = file.readlines()"
   ]
  },
  {
   "cell_type": "code",
   "execution_count": 2,
   "metadata": {},
   "outputs": [
    {
     "data": {
      "text/plain": [
       "'index_sql;Q3;Q4;Q5;Q6;Q7;Q8;Q9;Q11;Q12;Q13;Q14;Q15;Q16;Q17;Q20;Q21;Q22;Q23;Q24;Q25;Q26;Q32;Q33;Q34;Q35;Q41\\n'"
      ]
     },
     "execution_count": 2,
     "metadata": {},
     "output_type": "execute_result"
    }
   ],
   "source": [
    "# sacamos el primer string de la lista.\n",
    "file_source[0]"
   ]
  },
  {
   "cell_type": "code",
   "execution_count": 30,
   "metadata": {},
   "outputs": [
    {
     "name": "stdout",
     "output_type": "stream",
     "text": [
      "index_sql;Q3;Q4;Q5;Q6;Q7;Q8;Q9;Q11;Q12;Q13;Q14;Q15;Q16;Q17;Q20;Q21;Q22;Q23;Q24;Q25;Q26;Q32;Q33;Q34;Q35;Q41\n"
     ]
    }
   ],
   "source": [
    "# creamos codigo para solo un elemento. Para quitar los '\\n' (saltos de línea).\n",
    "frase=file_source[0]\n",
    "frase_nueva=frase.replace(\"\\n\",\"\")\n",
    "print(frase_nueva)"
   ]
  },
  {
   "cell_type": "code",
   "execution_count": null,
   "metadata": {},
   "outputs": [],
   "source": [
    "# creamos código para toda la lista(todo el txt), para quitar los saltos de linea(\\n). \n",
    "lista_sin_saltos=[]\n",
    "for i in file_source:\n",
    "    elemento=i.replace(\"\\n\",\"\")\n",
    "    lista_sin_saltos.append(elemento)\n",
    "print(lista_sin_saltos)"
   ]
  },
  {
   "cell_type": "code",
   "execution_count": 25,
   "metadata": {},
   "outputs": [],
   "source": [
    "# crear la funcion.\n",
    "def quitar_saltos(lista_txt):\n",
    "    # función que sirve para quitar saltos de línea en elementos string de una lista con datos de un txt.\n",
    "    lista_sin_saltos=[]\n",
    "    for i in lista_txt:\n",
    "        elemento=i.replace(\"\\n\",\"\")\n",
    "        lista_sin_saltos.append(elemento)\n",
    "    return lista_sin_saltos\n",
    "# cuando ejecutemos la función sobre una lista de u txt, nos devolverá el resultado de esa lista tras quitar los saltos.\n",
    "# para guardar ese resultado deberemos guardar eso dentro de una funcion, es decir \n",
    "# --> variable = quitar_saltos(lista_txt)"
   ]
  },
  {
   "cell_type": "code",
   "execution_count": null,
   "metadata": {},
   "outputs": [],
   "source": [
    "# cambiar '<' por 'under' y  cambiar 'null' por 'NULL'."
   ]
  },
  {
   "cell_type": "code",
   "execution_count": 33,
   "metadata": {},
   "outputs": [],
   "source": [
    "#ahora que ya tenemos la funcion para los '\\n', simplemente metemos en la funcion tambien las sustituciones de '<' por 'under' y los 'null' por 'NULL'.\n",
    "def sustituir(lista_txt):\n",
    "    # función que sirve para quitar saltos de línea(\\n), cambiar '<' por 'under y 'null' por 'NULL', en elementos string de una lista con datos de un txt.\n",
    "    lista_sustituida=[]\n",
    "    for i in lista_txt:\n",
    "        saltos=i.replace(\"\\n\",\"\")\n",
    "        menores=saltos.replace(\"<\", \"under\")\n",
    "        nules=menores.replace(\"null\",\"NULL\")\n",
    "        lista_sustituida.append(nules)\n",
    "    return lista_sustituida"
   ]
  },
  {
   "cell_type": "code",
   "execution_count": 34,
   "metadata": {},
   "outputs": [],
   "source": [
    "prueba1 = sustituir(file_source)"
   ]
  },
  {
   "cell_type": "code",
   "execution_count": null,
   "metadata": {},
   "outputs": [],
   "source": []
  },
  {
   "cell_type": "code",
   "execution_count": null,
   "metadata": {},
   "outputs": [],
   "source": [
    "# eliminar los espacios extra en strings. HACER ESTO DESPUES DE ELIMINAR/CAMBIAR LO ANTERIOR (\\n, <, null)."
   ]
  },
  {
   "cell_type": "code",
   "execution_count": 11,
   "metadata": {},
   "outputs": [
    {
     "data": {
      "text/plain": [
       "'1;Indonesia;Master’s degree;Program/Project Manager;20+ years;null, SQL, C, C++, Java;Python;null,   Notepad++  ,  Jupyter Notebook;A cloud computing platform (AWS, Azure, GCP, hosted notebooks, etc);null, None;Never; Matplotlib ;Under 1 year;  Scikit-learn ;Linear or Logistic Regression, Decision Trees or Random Forests;Manufacturing/Fabrication;1000-9,999 employees;1-2;We are exploring ML methods (and may one day put a model into production);null, Build and/or run the data infrastructure that my business uses for storing, analyzing, and operationalizing data;60,000-69,999;$0 ($USD);;;;;Advanced statistical software (SPSS, SAS, etc.)\\n'"
      ]
     },
     "execution_count": 11,
     "metadata": {},
     "output_type": "execute_result"
    }
   ],
   "source": [
    "file_source[1]\n",
    "# vemos que cada elemento de la lista es un string"
   ]
  },
  {
   "cell_type": "code",
   "execution_count": 12,
   "metadata": {},
   "outputs": [],
   "source": [
    "#primero convertimos los elementos de la lista (strings) en listas dentro de esa lista.\n",
    "lista_listas=[]\n",
    "for strings in file_source:\n",
    "    list_string=strings.split(';')\n",
    "    lista_listas.append(list_string)\n"
   ]
  },
  {
   "cell_type": "code",
   "execution_count": 14,
   "metadata": {},
   "outputs": [
    {
     "name": "stdout",
     "output_type": "stream",
     "text": [
      "['1', 'Indonesia', 'Master’s degree', 'Program/Project Manager', '20+ years', 'null, SQL, C, C++, Java', 'Python', 'null,   Notepad++  ,  Jupyter Notebook', 'A cloud computing platform (AWS, Azure, GCP, hosted notebooks, etc)', 'null, None', 'Never', ' Matplotlib ', 'Under 1 year', '  Scikit-learn ', 'Linear or Logistic Regression, Decision Trees or Random Forests', 'Manufacturing/Fabrication', '1000-9,999 employees', '1-2', 'We are exploring ML methods (and may one day put a model into production)', 'null, Build and/or run the data infrastructure that my business uses for storing, analyzing, and operationalizing data', '60,000-69,999', '$0 ($USD)', '', '', '', '', 'Advanced statistical software (SPSS, SAS, etc.)\\n']\n"
     ]
    }
   ],
   "source": [
    "print(lista_listas[1])\n",
    "# ahora vemos que el primer elemento de esta lista nueva es una lista"
   ]
  },
  {
   "cell_type": "code",
   "execution_count": 37,
   "metadata": {},
   "outputs": [],
   "source": [
    "#probamos a crear lista de cada palabra separada por ',', dentro de lista de los elementos\n",
    "# separados por ';', dentro de lista txt.\n",
    "lista_listas=[]\n",
    "list2=[]\n",
    "list3=[]\n",
    "for strings in file_source:\n",
    "    list_string=strings.split(';')\n",
    "    lista_listas.append(list_string)\n",
    "    for word in list_string:\n",
    "        list1=word.split(',')\n",
    "        list2.append(list1)\n",
    "        list3.append(list2)\n"
   ]
  },
  {
   "cell_type": "code",
   "execution_count": 38,
   "metadata": {},
   "outputs": [
    {
     "name": "stdout",
     "output_type": "stream",
     "text": [
      "['1', 'Indonesia', 'Master’s degree', 'Program/Project Manager', '20+ years', 'null, SQL, C, C++, Java', 'Python', 'null,   Notepad++  ,  Jupyter Notebook', 'A cloud computing platform (AWS, Azure, GCP, hosted notebooks, etc)', 'null, None', 'Never', ' Matplotlib ', 'Under 1 year', '  Scikit-learn ', 'Linear or Logistic Regression, Decision Trees or Random Forests', 'Manufacturing/Fabrication', '1000-9,999 employees', '1-2', 'We are exploring ML methods (and may one day put a model into production)', 'null, Build and/or run the data infrastructure that my business uses for storing, analyzing, and operationalizing data', '60,000-69,999', '$0 ($USD)', '', '', '', '', 'Advanced statistical software (SPSS, SAS, etc.)\\n']\n"
     ]
    }
   ],
   "source": [
    "print(lista_listas[1])"
   ]
  },
  {
   "cell_type": "code",
   "execution_count": 39,
   "metadata": {},
   "outputs": [
    {
     "name": "stdout",
     "output_type": "stream",
     "text": [
      "['null', '   Notepad++  ', '  Jupyter Notebook']\n"
     ]
    }
   ],
   "source": [
    "print(lista_listas[1][7].split(','))"
   ]
  },
  {
   "cell_type": "code",
   "execution_count": 42,
   "metadata": {},
   "outputs": [
    {
     "name": "stdout",
     "output_type": "stream",
     "text": [
      "['Q8']\n"
     ]
    }
   ],
   "source": [
    "print(list3[2][6])"
   ]
  },
  {
   "cell_type": "code",
   "execution_count": null,
   "metadata": {},
   "outputs": [],
   "source": [
    "# mirar si podemos procesar más cosas."
   ]
  }
 ],
 "metadata": {
  "kernelspec": {
   "display_name": "Python 3.9.7 ('base')",
   "language": "python",
   "name": "python3"
  },
  "language_info": {
   "codemirror_mode": {
    "name": "ipython",
    "version": 3
   },
   "file_extension": ".py",
   "mimetype": "text/x-python",
   "name": "python",
   "nbconvert_exporter": "python",
   "pygments_lexer": "ipython3",
   "version": "3.9.7"
  },
  "orig_nbformat": 4,
  "vscode": {
   "interpreter": {
    "hash": "468215beec16e96f99bc366ecab75b1d75db716e353e0417cbdb37be88f0d883"
   }
  }
 },
 "nbformat": 4,
 "nbformat_minor": 2
}
